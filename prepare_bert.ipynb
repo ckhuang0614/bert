{
  "nbformat": 4,
  "nbformat_minor": 0,
  "metadata": {
    "colab": {
      "name": "prepare_bert.ipynb",
      "version": "0.3.2",
      "provenance": [],
      "collapsed_sections": [],
      "include_colab_link": true
    },
    "kernelspec": {
      "name": "python3",
      "display_name": "Python 3"
    },
    "accelerator": "GPU"
  },
  "cells": [
    {
      "cell_type": "markdown",
      "metadata": {
        "id": "view-in-github",
        "colab_type": "text"
      },
      "source": [
        "<a href=\"https://colab.research.google.com/github/ckhuang0614/bert/blob/master/prepare_bert.ipynb\" target=\"_parent\"><img src=\"https://colab.research.google.com/assets/colab-badge.svg\" alt=\"Open In Colab\"/></a>"
      ]
    },
    {
      "cell_type": "code",
      "metadata": {
        "id": "tyHvtdOdbOP2",
        "colab_type": "code",
        "colab": {}
      },
      "source": [
        "import tensorflow as tf; print(tf.__version__)  # for both Python 2 and Python 3\n"
      ],
      "execution_count": 0,
      "outputs": []
    },
    {
      "cell_type": "code",
      "metadata": {
        "id": "yIbJKsMPk9n_",
        "colab_type": "code",
        "colab": {}
      },
      "source": [
        "!/opt/bin/nvidia-smi"
      ],
      "execution_count": 0,
      "outputs": []
    },
    {
      "cell_type": "code",
      "metadata": {
        "id": "y9avm_ddVGJ7",
        "colab_type": "code",
        "colab": {}
      },
      "source": [
        "from tensorflow.python.client import device_lib\n",
        "\n",
        "device_lib.list_local_devices()"
      ],
      "execution_count": 0,
      "outputs": []
    },
    {
      "cell_type": "code",
      "metadata": {
        "id": "5LqKp2JNf48d",
        "colab_type": "code",
        "colab": {}
      },
      "source": [
        "import tensorflow as tf\n",
        "device_name = tf.test.gpu_device_name()\n",
        "if device_name != '/device:GPU:0':\n",
        "  raise SystemError('GPU device not found')\n",
        "print('Found GPU at: {}'.format(device_name))"
      ],
      "execution_count": 0,
      "outputs": []
    },
    {
      "cell_type": "code",
      "metadata": {
        "id": "WhLxuPm1yk6h",
        "colab_type": "code",
        "colab": {}
      },
      "source": [
        "from google.colab import drive\n",
        "drive.mount('/content/drive/', force_remount=True)"
      ],
      "execution_count": 0,
      "outputs": []
    },
    {
      "cell_type": "code",
      "metadata": {
        "id": "L06PmAdw01gN",
        "colab_type": "code",
        "outputId": "ff3070a2-5738-4503-bbeb-2debfef9b9e2",
        "colab": {
          "base_uri": "https://localhost:8080/",
          "height": 35
        }
      },
      "source": [
        "%cd /content/drive/My Drive/app/bert_poc/"
      ],
      "execution_count": 0,
      "outputs": [
        {
          "output_type": "stream",
          "text": [
            "/content/drive/My Drive/app/bert_poc\n"
          ],
          "name": "stdout"
        }
      ]
    },
    {
      "cell_type": "code",
      "metadata": {
        "id": "PeC-WCIOzMM9",
        "colab_type": "code",
        "colab": {}
      },
      "source": [
        "!git clone https://github.com/google-research/bert.git"
      ],
      "execution_count": 0,
      "outputs": []
    },
    {
      "cell_type": "code",
      "metadata": {
        "id": "a5aiI7XozSTU",
        "colab_type": "code",
        "colab": {}
      },
      "source": [
        "!wget https://storage.googleapis.com/bert_models/2018_11_03/chinese_L-12_H-768_A-12.zip -P \"/content/drive/My Drive/app/bert_poc/\""
      ],
      "execution_count": 0,
      "outputs": []
    },
    {
      "cell_type": "code",
      "metadata": {
        "id": "ckX6zZST0XzL",
        "colab_type": "code",
        "colab": {}
      },
      "source": [
        "!unzip \"/content/drive/My Drive/app/bert_poc/chinese_L-12_H-768_A-12.zip\""
      ],
      "execution_count": 0,
      "outputs": []
    },
    {
      "cell_type": "code",
      "metadata": {
        "id": "iutVCy3K2lY9",
        "colab_type": "code",
        "colab": {}
      },
      "source": [
        "!wget https://storage.googleapis.com/bert_models/2018_10_18/uncased_L-12_H-768_A-12.zip -P \"/content/drive/My Drive/app/bert_poc/\""
      ],
      "execution_count": 0,
      "outputs": []
    },
    {
      "cell_type": "code",
      "metadata": {
        "id": "70RgJth73txf",
        "colab_type": "code",
        "colab": {}
      },
      "source": [
        "!unzip \"/content/drive/My Drive/app/bert_poc/uncased_L-12_H-768_A-12.zip\""
      ],
      "execution_count": 0,
      "outputs": []
    },
    {
      "cell_type": "code",
      "metadata": {
        "id": "JrDsUSNl3zaF",
        "colab_type": "code",
        "colab": {}
      },
      "source": [
        "!python3 \"/content/drive/My Drive/app/bert_poc/download_glue_data.py\" --data_dir glue_data --tasks all"
      ],
      "execution_count": 0,
      "outputs": []
    },
    {
      "cell_type": "code",
      "metadata": {
        "id": "RgFEnwJRHWOs",
        "colab_type": "code",
        "colab": {}
      },
      "source": [
        "%cd /content/drive/My Drive/app/bert_poc/bert"
      ],
      "execution_count": 0,
      "outputs": []
    },
    {
      "cell_type": "code",
      "metadata": {
        "id": "hZLf0YEzC_PE",
        "colab_type": "code",
        "colab": {}
      },
      "source": [
        "!python3 run_classifier.py --task_name=mrpc --do_train=true --do_eval=true --do_predict=true --data_dir=\"/content/drive/My Drive/app/bert_poc/glue_data/MRPC/\" --vocab_file=\"/content/drive/My Drive/app/bert_poc/uncased_L-12_H-768_A-12/vocab.txt\" --bert_config_file=\"/content/drive/My Drive/app/bert_poc/uncased_L-12_H-768_A-12/bert_config.json\" --init_checkpoint=\"/content/drive/My Drive/app/bert_poc/uncased_L-12_H-768_A-12/bert_model.ckpt\" --max_seq_length=128 --train_batch_size=32 --learning_rate=2e-5 --num_train_epochs=10.0 --output_dir=\"/content/drive/My Drive/app/bert_poc/mytask_output_mrpc\""
      ],
      "execution_count": 0,
      "outputs": []
    },
    {
      "cell_type": "code",
      "metadata": {
        "id": "2qTokHcQHJ1V",
        "colab_type": "code",
        "colab": {}
      },
      "source": [
        "!ls \"/content/drive/My Drive/app/\""
      ],
      "execution_count": 0,
      "outputs": []
    },
    {
      "cell_type": "code",
      "metadata": {
        "id": "wGkyEUegaTv-",
        "colab_type": "code",
        "colab": {}
      },
      "source": [
        "!rm -rf \"/content/drive/My Drive/app/bert_poc/mytask_output\""
      ],
      "execution_count": 0,
      "outputs": []
    },
    {
      "cell_type": "markdown",
      "metadata": {
        "id": "C0hkpxO5s7lx",
        "colab_type": "text"
      },
      "source": [
        "[小数据福音！BERT在极小数据下带来显著提升的开源实现](https://mp.weixin.qq.com/s/XmeDjHSFI0UsQmKeOgwnyA)\n",
        "\n",
        "[BERT-Classification-Tutorial](https://github.com/Socialbird-AILab/BERT-Classification-Tutorial)\n",
        "\n",
        "\n",
        "[如何判断两段文本说的是「同一件事情」？](https://www.zhihu.com/question/56751077)\n",
        "\n",
        "\n",
        "[BERT模型fine-tuning代码解析（一）](https://leowood.github.io/2018/11/16/BERT-fine-tuning-01/)\n",
        "\n",
        "Bert系列（一）——demo运行\n",
        "\n",
        "Bert系列（二）——模型主体源码解读\n",
        "\n",
        "Bert系列（三）——源码解读之Pre-train\n",
        "\n",
        "Bert系列（四）——源码解读之Fine-tune\n",
        "\n",
        "Bert系列（五）——中文分词实践 F1 97.8%(附代码)"
      ]
    }
  ]
}