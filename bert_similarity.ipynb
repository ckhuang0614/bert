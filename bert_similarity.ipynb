{
  "nbformat": 4,
  "nbformat_minor": 0,
  "metadata": {
    "colab": {
      "name": "bert_similarity.ipynb",
      "version": "0.3.2",
      "provenance": [],
      "collapsed_sections": [],
      "include_colab_link": true
    },
    "kernelspec": {
      "name": "python3",
      "display_name": "Python 3"
    },
    "accelerator": "GPU"
  },
  "cells": [
    {
      "cell_type": "markdown",
      "metadata": {
        "id": "view-in-github",
        "colab_type": "text"
      },
      "source": [
        "<a href=\"https://colab.research.google.com/github/ckhuang0614/bert/blob/master/bert_similarity.ipynb\" target=\"_parent\"><img src=\"https://colab.research.google.com/assets/colab-badge.svg\" alt=\"Open In Colab\"/></a>"
      ]
    },
    {
      "cell_type": "code",
      "metadata": {
        "id": "qCK-tdcnADn7",
        "colab_type": "code",
        "colab": {}
      },
      "source": [
        "!nvidia-smi"
      ],
      "execution_count": 0,
      "outputs": []
    },
    {
      "cell_type": "code",
      "metadata": {
        "id": "nq7gQs_ACz0f",
        "colab_type": "code",
        "colab": {}
      },
      "source": [
        "from tensorflow.python.client import device_lib\n",
        "device_lib.list_local_devices()\n"
      ],
      "execution_count": 0,
      "outputs": []
    },
    {
      "cell_type": "code",
      "metadata": {
        "id": "C6Wzkk61QP2E",
        "colab_type": "code",
        "colab": {}
      },
      "source": [
        "import tensorflow as tf \n",
        "device_name = tf.test.gpu_device_name() \n",
        "if device_name != '/device:GPU:0': \n",
        "  raise SystemError('GPU device not found') \n",
        "print('Found GPU at: {}'.format(device_name))\n"
      ],
      "execution_count": 0,
      "outputs": []
    },
    {
      "cell_type": "code",
      "metadata": {
        "id": "LSnnglF2-5RK",
        "colab_type": "code",
        "colab": {}
      },
      "source": [
        "from google.colab import drive\n",
        "drive.mount('/content/drive/', force_remount=True)"
      ],
      "execution_count": 0,
      "outputs": []
    },
    {
      "cell_type": "code",
      "metadata": {
        "id": "fVfQMWN3Yfct",
        "colab_type": "code",
        "colab": {}
      },
      "source": [
        "#蚂蚁金服的测试数据"
      ],
      "execution_count": 0,
      "outputs": []
    },
    {
      "cell_type": "code",
      "metadata": {
        "id": "5iLslauN-WO1",
        "colab_type": "code",
        "colab": {}
      },
      "source": [
        "!wget https://raw.githubusercontent.com/sliderSun/bert/master/train.csv -P \"/content/drive/My Drive/app/bert_poc/similarity_data/\""
      ],
      "execution_count": 0,
      "outputs": []
    },
    {
      "cell_type": "code",
      "metadata": {
        "id": "GjF4b1iF_Riv",
        "colab_type": "code",
        "colab": {}
      },
      "source": [
        "!wget https://raw.githubusercontent.com/sliderSun/bert/master/val.csv -P \"/content/drive/My Drive/app/bert_poc/similarity_data/\""
      ],
      "execution_count": 0,
      "outputs": []
    },
    {
      "cell_type": "code",
      "metadata": {
        "id": "EJDFXKKB_5Yz",
        "colab_type": "code",
        "colab": {}
      },
      "source": [
        "!wget https://raw.githubusercontent.com/sliderSun/bert/master/test.csv -P \"/content/drive/My Drive/app/bert_poc/similarity_data/\""
      ],
      "execution_count": 0,
      "outputs": []
    },
    {
      "cell_type": "code",
      "metadata": {
        "id": "9nDu0Xc7ASIs",
        "colab_type": "code",
        "colab": {}
      },
      "source": [
        "%cd /content/drive/My Drive/app/bert_poc/bert"
      ],
      "execution_count": 0,
      "outputs": []
    },
    {
      "cell_type": "code",
      "metadata": {
        "id": "9GoIcEedBMk5",
        "colab_type": "code",
        "colab": {}
      },
      "source": [
        "!python3 run_classifier_sim.py --task_name=similarity --do_train=true --do_eval=true --do_predict=true --data_dir=\"/content/drive/My Drive/app/bert_poc/similarity_data/\"  --vocab_file=\"/content/drive/My Drive/app/bert_poc/chinese_L-12_H-768_A-12/vocab.txt\" --bert_config_file=\"/content/drive/My Drive/app/bert/chinese_L-12_H-768_A-12/bert_config.json\" --init_checkpoint=\"/content/drive/My Drive/app/bert_poc/chinese_L-12_H-768_A-12/bert_model.ckpt\" --max_seq_length=128 --train_batch_size=32 --learning_rate=5e-5 --num_train_epochs=10.0 --output_dir=\"/content/drive/My Drive/app/bert_poc/mytask_output_sim\""
      ],
      "execution_count": 0,
      "outputs": []
    },
    {
      "cell_type": "markdown",
      "metadata": {
        "id": "BD3XAGGBE4eZ",
        "colab_type": "text"
      },
      "source": [
        "[BERT中文实战（文本相似度）](https://blog.csdn.net/weixin_37947156/article/details/84877254)\n",
        "\n",
        "[一行代码使用BERT生成句向量，BERT做文本分类、文本相似度计算](https://github.com/terrifyzhao/bert-utils)"
      ]
    }
  ]
}